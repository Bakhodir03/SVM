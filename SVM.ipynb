{
 "cells":[
  {
   "cell_type":"markdown",
   "source":[
    "# Sheet"
   ],
   "attachments":{},
   "metadata":{
    "datalore":{
     "node_id":"Sheet",
     "type":"MD",
     "hide_input_from_viewers":false,
     "hide_output_from_viewers":false,
     "sheet_delimiter":true
    }
   }
  },
  {
   "cell_type":"code",
   "source":[
    "import numpy as np\n",
    "from sklearn.preprocessing import StandardScaler\n",
    "from sklearn.metrics import accuracy_score\n",
    "import matplotlib.pyplot as plt\n",
    "\n",
    "class SVM():\n",
    "    def __init__(self, alfa, N, lamb):  # Corrected to __init__ from init\n",
    "        self.alfa = alfa\n",
    "        self.N = N\n",
    "        self.lamb = lamb\n",
    "\n",
    "    def fit(self, X, Y): # x kirivchi Y ha qiqiy natija \n",
    "        self.m, self.n = X.shape\n",
    "        self.w = np.zeros(self.n)\n",
    "        self.b = 0\n",
    "        self.X = X\n",
    "        self.Y = Y\n",
    "        for i in range(self.N):\n",
    "            self.update_weights()\n",
    "\n",
    "    def update_weights(self):\n",
    "        y_label = np.where(self.Y <= 0, -1, 1)\n",
    "        for index, x_i in enumerate(self.X):  # Iterate through each sample\n",
    "            Mi = y_label[index] * (np.dot(x_i, self.w) - self.b) >= 1  # SVM shartining to'g'ri yoki noto'g'ri bajarilganini tekshiradi.\n",
    "            if Mi:\n",
    "                dw = 2 * self.lamb * self.w\n",
    "                db = 0\n",
    "            else:\n",
    "                dw = 2 * self.lamb * self.w - np.dot(x_i, y_label[index])\n",
    "                db = y_label[index]\n",
    "            self.w = self.w - self.alfa * dw\n",
    "            self.b = self.b - self.alfa * db #self.w va self.b o'rganish tezligi (alfa) bilan yangilanadi.\n",
    "\n",
    "    def predict(self, X):\n",
    "        output = np.dot(X, self.w) - self.b # Kirish ma'lumotlarining og'irliklar bilan chiziqli kombinatsiyasi \n",
    "        predicted_labels = np.sign(output)  # Assigning -1 or 1 labels based on the output\n",
    "        y_hat = np.where(predicted_labels <= -1, 0, 1)  # Converting labels to 0 or 1\n",
    "        return y_hat\n",
    "\n",
    "# O'quv ma'lumotlar\n",
    "X_train = np.array([[1, 3], [2, 5], [3, 4], [8, 8], [5, 5], [4, 2], [6, 2], [6, 4], [7, 3], [8, 5]])\n",
    "Y_train = np.array([0, 0, 0, 0, 0, 1, 1, 1, 1, 1])\n",
    "\n",
    "# Sinov ma'lumotlar\n",
    "X_test = np.array([[5, 6], [6, 6], [9, 4], [10, 7]])\n",
    "Y_test = np.array([0, 0, 1, 1])\n",
    "\n",
    "# Initialize and fit the model\n",
    "ob = SVM(alfa=0.001, N=10000, lamb=0.01)  # Modelni hiperparametrlari bilan boshlash\n",
    "ob.fit(X_train, Y_train)\n",
    "\n",
    "# Evaluate accuracy on training data\n",
    "X_train_prediction = ob.predict(X_train)\n",
    "training_accuracy = accuracy_score(Y_train, X_train_prediction)\n",
    "print('Training data accuracy: ', training_accuracy)\n",
    "\n",
    "# Evaluate accuracy on test data\n",
    "X_test_prediction = ob.predict(X_test)\n",
    "test_accuracy = accuracy_score(Y_test, X_test_prediction)\n",
    "print('Test data accuracy: ', test_accuracy)\n",
    "\n",
    "# Plot decision boundary\n",
    "x_min, x_max = np.min(X_train[:, 0]) - 1, np.max(X_train[:, 0]) + 1  # Set axis limits for plotting\n",
    "y_min, y_max = np.min(X_train[:, 1]) - 1, np.max(X_train[:, 1]) + 1\n",
    "xx, yy = np.meshgrid(np.arange(x_min, x_max, 0.01), np.arange(y_min, y_max, 0.01))  # Create a grid of points\n",
    "Z = ob.predict(np.c_[xx.ravel(), yy.ravel()])\n",
    "Z = Z.reshape(xx.shape)\n",
    "\n",
    "plt.contourf(xx, yy, Z, alpha=0.3) # Qaror qabul qilish bo'shligini chizadi.\n",
    "plt.scatter(X_train[:, 0], X_train[:, 1], c=Y_train, cmap=plt.cm.Paired, edgecolors='k') #O'quv nuqtalarini grafikda ko'rsatadi.\n",
    "plt.title(\"SVM Decision Boundary\")\n",
    "plt.xlabel(\"Feature 1\")\n",
    "plt.ylabel(\"Feature 2\")\n",
    "plt.show()"
   ],
   "execution_count":1,
   "outputs":[
    {
     "name":"stdout",
     "text":[
      "Training data accuracy:  1.0\n",
      "Test data accuracy:  1.0\n"
     ],
     "output_type":"stream"
    },
    {
     "data":{
      "image\/png":"[encoded data removed]"
     },
     "metadata":{
      "image\/png":{}
     },
     "output_type":"display_data"
    }
   ],
   "metadata":{
    "datalore":{
     "node_id":"cJ657mXoBrmB0C2ZpYCtn7",
     "type":"CODE",
     "hide_input_from_viewers":true,
     "hide_output_from_viewers":true
    }
   }
  },
  {
   "cell_type":"markdown",
   "source":[
    "# Sheet 2"
   ],
   "attachments":{},
   "metadata":{
    "datalore":{
     "node_id":"Sheet 2",
     "type":"MD",
     "hide_input_from_viewers":false,
     "hide_output_from_viewers":false,
     "sheet_delimiter":true
    }
   }
  },
  {
   "cell_type":"code",
   "source":[
    "import tensorflow as tf\n",
    "x = tf.Variable(4.0)\n",
    "y = tf.Variable(2.0)\n",
    "\n",
    "# Qo‘shish\n",
    "a = x + y\n",
    "\n",
    "# Ko‘paytirish\n",
    "b = x * y\n",
    "\n",
    "print(f\"Sum: {a}, Product: {b}\")"
   ],
   "execution_count":41,
   "outputs":[
    {
     "name":"stdout",
     "text":[
      "Sum: 6.0, Product: 8.0\n"
     ],
     "output_type":"stream"
    }
   ],
   "metadata":{
    "datalore":{
     "node_id":"8cXoRsCYJAQQKa2Tf06GbE",
     "type":"CODE",
     "hide_input_from_viewers":true,
     "hide_output_from_viewers":true
    }
   }
  },
  {
   "cell_type":"code",
   "source":[
    "import tensorflow as tf\n",
    "\n",
    "# Vektorni aniqlash\n",
    "x = tf.Variable([1.0, 2.0, 3.0], dtype=tf.float32)\n",
    "\n",
    "# Gradient hisoblash\n",
    "with tf.GradientTape() as tape:\n",
    "    tape.watch(x)\n",
    "    y = 4 * x**2 - 5 * x + 5\n",
    "\n",
    "dy_dx = tape.gradient(y, x)\n",
    "print(\"Gradient:\", dy_dx)"
   ],
   "execution_count":21,
   "outputs":[
    {
     "name":"stdout",
     "text":[
      "Gradient: tf.Tensor([ 3. 11. 19.], shape=(3,), dtype=float32)\n"
     ],
     "output_type":"stream"
    }
   ],
   "metadata":{
    "datalore":{
     "node_id":"DM5nstz1bED9ao7zxbjuCA",
     "type":"CODE",
     "hide_input_from_viewers":true,
     "hide_output_from_viewers":true
    }
   }
  },
  {
   "cell_type":"code",
   "source":[
    "import tensorflow as tf\n",
    "\n",
    "# Parametrlarni aniqlash\n",
    "x = tf.constant([1.0, 2.0, 3.0], dtype=tf.float32)\n",
    "k = tf.Variable(2.0, dtype=tf.float32)\n",
    "b = tf.Variable(1.0, dtype=tf.float32)\n",
    "\n",
    "# Gradient hisoblash\n",
    "with tf.GradientTape() as tape:\n",
    "    y = k * x + b\n",
    "    f = y * y\n",
    "\n",
    "# Gradentlar k va b bo‘yicha\n",
    "grad_k, grad_b = tape.gradient(f, [k, b])\n",
    "print(\"Gradient k bo‘yicha:\", grad_k)\n",
    "print(\"Gradient b bo‘yicha:\", grad_b)"
   ],
   "execution_count":42,
   "outputs":[
    {
     "name":"stdout",
     "text":[
      "Gradient k bo‘yicha: tf.Tensor(68.0, shape=(), dtype=float32)\n",
      "Gradient b bo‘yicha: tf.Tensor(30.0, shape=(), dtype=float32)\n"
     ],
     "output_type":"stream"
    }
   ],
   "metadata":{
    "datalore":{
     "node_id":"ae06ELNECQgDBeXMVMrUKq",
     "type":"CODE",
     "hide_input_from_viewers":true,
     "hide_output_from_viewers":true
    }
   }
  },
  {
   "cell_type":"code",
   "source":[
    "import tensorflow as tf\n",
    "\n",
    "# Ma'lumotlar\n",
    "x_data = tf.constant([1.0, 2.0, 3.0, 4.0], dtype=tf.float32)\n",
    "y_data = tf.constant([3.0, 5.0, 7.0, 9.0], dtype=tf.float32)\n",
    "\n",
    "# Parametrlarni aniqlash\n",
    "k = tf.Variable(0.0, dtype=tf.float32)\n",
    "b = tf.Variable(0.0, dtype=tf.float32)\n",
    "\n",
    "# Optimizer\n",
    "optimizer = tf.keras.optimizers.SGD(learning_rate=0.01)\n",
    "\n",
    "# O‘qitish\n",
    "for epoch in range(100):\n",
    "    with tf.GradientTape() as tape:\n",
    "        y_pred = k * x_data + b\n",
    "        loss = tf.reduce_mean((y_data - y_pred)**2)\n",
    "    \n",
    "    gradients = tape.gradient(loss, [k, b])\n",
    "    optimizer.apply_gradients(zip(gradients, [k, b]))\n",
    "    \n",
    "    if epoch % 10 == 0:\n",
    "        print(f\"Epoch {epoch}: Loss = {loss.numpy()}\")\n",
    "\n",
    "print(\"Natijalar:\")\n",
    "print(f\"k: {k.numpy()}, b: {b.numpy()}\")"
   ],
   "execution_count":23,
   "outputs":[
    {
     "name":"stdout",
     "text":[
      "Epoch 0: Loss = 41.0\n",
      "Epoch 10: Loss = 1.0733331441879272\n",
      "Epoch 20: Loss = 0.0396033376455307\n",
      "Epoch 30: Loss = 0.012169554829597473\n",
      "Epoch 40: Loss = 0.010811055079102516\n",
      "Epoch 50: Loss = 0.01016497053205967\n",
      "Epoch 60: Loss = 0.009572885930538177\n",
      "Epoch 70: Loss = 0.009015659801661968\n",
      "Epoch 80: Loss = 0.008490930311381817\n",
      "Epoch 90: Loss = 0.007996692322194576\n",
      "Natijalar:\n",
      "k: 2.072226047515869, b: 0.7876465916633606\n"
     ],
     "output_type":"stream"
    }
   ],
   "metadata":{
    "datalore":{
     "node_id":"o5cKlJ3MSXeniZ8zkoAyya",
     "type":"CODE",
     "hide_input_from_viewers":true,
     "hide_output_from_viewers":true
    }
   }
  },
  {
   "cell_type":"code",
   "source":[
    "import tensorflow as tf\n",
    "\n",
    "# Oddiy skalyar qiymatga ega o'zgaruvchi\n",
    "a = tf.Variable(76, dtype=tf.int32)\n",
    "print(\"a:\", a)\n",
    "\n",
    "# Float turidagi o'zgaruvchi\n",
    "b = tf.Variable(4.3453, dtype=tf.float32)\n",
    "print(\"b:\", b)\n",
    "\n",
    "\n",
    "# Matritsa shaklida o'zgaruvchi\n",
    "matrix = tf.Variable([[1, 2], [3, 4]], dtype=tf.int32)\n",
    "print(\"Matrix:\\n\", matrix)\n",
    "\n",
    "# 3 o'lchovli tensor\n",
    "tensor = tf.Variable(tf.ones((2, 3, 4)))\n",
    "print(\"Tensor:\\n\", tensor)\n",
    "\n",
    "\n",
    "\n",
    "\n",
    "\n",
    "\n"
   ],
   "execution_count":37,
   "outputs":[
    {
     "name":"stdout",
     "text":[
      "a: <tf.Variable 'Variable:0' shape=() dtype=int32, numpy=76>\n",
      "b: <tf.Variable 'Variable:0' shape=() dtype=float32, numpy=4.3453>\n",
      "Matrix:\n",
      " <tf.Variable 'Variable:0' shape=(2, 2) dtype=int32, numpy=<unavailable>>\n",
      "Tensor:\n",
      " <tf.Variable 'Variable:0' shape=(2, 3, 4) dtype=float32, numpy=<unavailable>>\n"
     ],
     "output_type":"stream"
    }
   ],
   "metadata":{
    "datalore":{
     "node_id":"Pyi43uQPXdqDr4y0ZanMeE",
     "type":"CODE",
     "hide_input_from_viewers":true,
     "hide_output_from_viewers":true
    }
   }
  },
  {
   "cell_type":"markdown",
   "source":[
    "# Sheet 3"
   ],
   "attachments":{},
   "metadata":{
    "datalore":{
     "node_id":"Sheet 3",
     "type":"MD",
     "hide_input_from_viewers":false,
     "hide_output_from_viewers":false,
     "sheet_delimiter":true
    }
   }
  },
  {
   "cell_type":"code",
   "source":[],
   "execution_count":null,
   "outputs":[],
   "metadata":{
    "datalore":{
     "node_id":"wJuEa0OsMVQAhCHXoxzyn2",
     "type":"CODE",
     "hide_input_from_viewers":true,
     "hide_output_from_viewers":true
    }
   }
  },
  {
   "cell_type":"markdown",
   "source":[
    "# Sheet 4"
   ],
   "attachments":{},
   "metadata":{
    "datalore":{
     "node_id":"Sheet 4",
     "type":"MD",
     "hide_input_from_viewers":false,
     "hide_output_from_viewers":false,
     "sheet_delimiter":true
    }
   }
  },
  {
   "cell_type":"code",
   "source":[
    "import tensorflow as tf\n",
    "\n",
    "# ======================================\n",
    "# 1. O‘zgaruvchilarni e‘lon qilish\n",
    "# ======================================\n",
    "# Oddiy skalyar qiymat o'zgaruvchi\n",
    "var1 = tf.Variable(5, dtype=tf.int32)\n",
    "print(\"Variable 1:\", var1)\n",
    "\n",
    "# Tensor shaklidagi o'zgaruvchi\n",
    "var2 = tf.Variable([[1, 2], [3, 4]], dtype=tf.float32)\n",
    "print(\"Variable 2:\\n\", var2)\n",
    "\n",
    "# ======================================\n",
    "# 2. O‘zgaruvchi turini o‘zgartirish\n",
    "# ======================================\n",
    "var3 = tf.Variable(3.14, dtype=tf.float32)\n",
    "print(\"Before casting:\", var3)\n",
    "\n",
    "# Turini int32 ga o'zgartirish\n",
    "var3_casted = tf.cast(var3, dtype=tf.int32)\n",
    "print(\"After casting to int32:\", var3_casted)\n",
    "\n",
    "# ======================================\n",
    "# 3. O‘zgaruvchilarni random qiymatlar bilan to‘ldirish\n",
    "# ======================================\n",
    "# Normal taqsimot\n",
    "random_normal = tf.Variable(tf.random.normal([3, 3], mean=0, stddev=1))\n",
    "print(\"Random Normal Tensor:\\n\", random_normal)\n",
    "\n",
    "# Uniform taqsimot\n",
    "random_uniform = tf.Variable(tf.random.uniform([3, 3], minval=0, maxval=10))\n",
    "print(\"Random Uniform Tensor:\\n\", random_uniform)\n",
    "\n",
    "# ======================================\n",
    "# 4. O‘zgaruvchilar ustida amallar\n",
    "# ======================================\n",
    "# Qo'shish, ayirish, ko'paytirish, bo'lish\n",
    "result_add = var2 + 2\n",
    "print(\"After addition:\\n\", result_add)\n",
    "\n",
    "result_mul = var2 * 3\n",
    "print(\"After multiplication:\\n\", result_mul)\n",
    "\n",
    "# ======================================\n",
    "# 1-Masala: y = 4x^2 - 5x + 5 funksiyaning differensiali\n",
    "# ======================================\n",
    "def compute_derivative_1(x):\n",
    "    x = tf.Variable(x, dtype=tf.float32)\n",
    "    with tf.GradientTape() as tape:\n",
    "        y = 4 * x**2 - 5 * x + 5\n",
    "    dy_dx = tape.gradient(y, x)\n",
    "    return dy_dx\n",
    "\n",
    "x_vector = tf.constant([1.0, 2.0, 3.0])\n",
    "derivative_1 = compute_derivative_1(x_vector)\n",
    "print(\"1-Masala: Differensial y' = 4x^2 - 5x + 5\\n\", derivative_1)\n",
    "\n",
    "# ======================================\n",
    "# 2-Masala: y = kx + b, f = y^2 funksiyadan k va b bo‘yicha differensial\n",
    "# ======================================\n",
    "def compute_derivative_2(x, k, b):\n",
    "    k = tf.Variable(k, dtype=tf.float32)\n",
    "    b = tf.Variable(b, dtype=tf.float32)\n",
    "    with tf.GradientTape(persistent=True) as tape:\n",
    "        y = k * x + b\n",
    "        f = y * y\n",
    "    df_dk = tape.gradient(f, k)\n",
    "    df_db = tape.gradient(f, b)\n",
    "    return df_dk, df_db\n",
    "\n",
    "x_value = tf.constant(2.0)\n",
    "k_value = 3.0\n",
    "b_value = 1.0\n",
    "derivative_2 = compute_derivative_2(x_value, k_value, b_value)\n",
    "print(\"2-Masala: Differensial df\/dk, df\/db\\n\", derivative_2)\n",
    "\n",
    "# ======================================\n",
    "# 3-Masala: GradientTape yordamida chiziqli regressiya\n",
    "# ======================================\n",
    "# Ma'lumotlarni yaratish\n",
    "X = tf.constant([[1.0], [2.0], [3.0], [4.0]])\n",
    "y_true = tf.constant([[2.0], [4.0], [6.0], [8.0]])\n",
    "\n",
    "# Og'irliklar va offset (bias) o'zgaruvchilari\n",
    "a = tf.Variable(0.0)\n",
    "b = tf.Variable(0.0)\n",
    "\n",
    "# Gradient descendent\n",
    "learning_rate = 0.01\n",
    "for i in range(1000):\n",
    "    with tf.GradientTape() as tape:\n",
    "        y_pred = a * X + b\n",
    "        loss = tf.reduce_mean((y_true - y_pred)**2)  # MSE\n",
    "    gradients = tape.gradient(loss, [a, b])\n",
    "    a.assign_sub(learning_rate * gradients[0])\n",
    "    b.assign_sub(learning_rate * gradients[1])\n",
    "\n",
    "print(\"Chiziqli regressiya natijasi:\")\n",
    "print(\"a (koeffitsiyent):\", a.numpy())\n",
    "print(\"b (offset):\", b.numpy())"
   ],
   "execution_count":38,
   "outputs":[
    {
     "name":"stdout",
     "text":[
      "Variable 1: <tf.Variable 'Variable:0' shape=() dtype=int32, numpy=5>\n",
      "Variable 2:\n",
      " <tf.Variable 'Variable:0' shape=(2, 2) dtype=float32, numpy=<unavailable>>\n",
      "Before casting: <tf.Variable 'Variable:0' shape=() dtype=float32, numpy=3.14>\n",
      "After casting to int32: tf.Tensor(3, shape=(), dtype=int32)\n",
      "Random Normal Tensor:\n",
      " <tf.Variable 'Variable:0' shape=(3, 3) dtype=float32, numpy=<unavailable>>\n",
      "Random Uniform Tensor:\n",
      " <tf.Variable 'Variable:0' shape=(3, 3) dtype=float32, numpy=<unavailable>>\n",
      "After addition:\n",
      " "
     ],
     "output_type":"stream"
    },
    {
     "ename":"AttributeError",
     "evalue":"AttributeError: module 'numpy' has no attribute 'max'",
     "traceback":[
      "\u001b[0;31m---------------------------------------------------------------------------",
      "Traceback (most recent call last)",
      "    at line 40 in <module>",
      "    at line 1093 in __str__(self)",
      "    at line 258 in value_text(tensor, is_repr)",
      "    at line 229 in numpy_text(tensor, is_repr)",
      "    at line 1588 in _array_str_implementation(a, max_line_width, precision, suppress_small, array2string)",
      "    at line 736 in array2string(a, max_line_width, precision, suppress_small, separator, prefix, style, formatter, threshold, edgeitems, sign, floatmode, suffix, legacy)",
      "    at line 513 in wrapper(self, *args, **kwargs)",
      "    at line 539 in _array2string(a, options, separator, prefix)",
      "    at line 472 in _get_format_function(data, **options)",
      "    at line 411 in <lambda>()",
      "    at line 932 in __init__(self, data, precision, floatmode, suppress_small, sign, legacy)",
      "    at line 941 in fillFormat(self, data)",
      "AttributeError: module 'numpy' has no attribute 'max'"
     ],
     "output_type":"error"
    }
   ],
   "metadata":{
    "datalore":{
     "node_id":"KgVGvk6wUxgFVBpJR5de57",
     "type":"CODE",
     "hide_input_from_viewers":true,
     "hide_output_from_viewers":true
    }
   }
  }
 ],
 "metadata":{
  "kernelspec":{
   "display_name":"Python",
   "language":"python",
   "name":"python"
  },
  "datalore":{
   "computation_mode":"JUPYTER",
   "package_manager":"pip",
   "base_environment":"default_3_11",
   "packages":[],
   "report_row_ids":[],
   "report_tabs":[],
   "version":4
  }
 },
 "nbformat":4,
 "nbformat_minor":4
}